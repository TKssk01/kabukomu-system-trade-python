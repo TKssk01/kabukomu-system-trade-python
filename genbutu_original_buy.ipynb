{
 "cells": [
  {
   "cell_type": "code",
   "execution_count": 3,
   "metadata": {},
   "outputs": [
    {
     "name": "stdout",
     "output_type": "stream",
     "text": [
      "{'ResultCode': 0, 'Token': 'eb710589f74d4468a0232fd95686fd06'}\n",
      "eb710589f74d4468a0232fd95686fd06\n"
     ]
    }
   ],
   "source": [
    "#パスワードを変数に代入\n",
    "APIPassword = '1995taka'\n",
    "\n",
    "import urllib.request\n",
    "import json\n",
    "import pprint\n",
    "\n",
    "obj = { 'APIPassword': APIPassword }\n",
    "json_data = json.dumps(obj).encode('utf8')\n",
    "\n",
    "url = 'http://localhost:18080/kabusapi/token'\n",
    "req = urllib.request.Request(url, json_data, method='POST')\n",
    "req.add_header('Content-Type', 'application/json')\n",
    "\n",
    "#トークンを取得する関数 \n",
    "def generate_token(APIPassword):\n",
    "    obj = {'APIPassword': APIPassword}\n",
    "    json_data = json.dumps(obj).encode('utf8')\n",
    "    url = 'http://localhost:18080/kabusapi/token'\n",
    "    req = urllib.request.Request(url, json_data, method='POST')\n",
    "    req.add_header('Content-Type', 'application/json')\n",
    "    try:\n",
    "        with urllib.request.urlopen(req) as res:\n",
    "            content = json.loads(res.read())\n",
    "            print(content)\n",
    "            token_value = content.get('Token')\n",
    "    except urllib.error.HTTPError as e:\n",
    "        print(e)\n",
    "        token_value = 'HTTPError'\n",
    "    except Exception as e:\n",
    "        print(e)\n",
    "        token_value = 'Error'\n",
    "    return token_value\n",
    "\n",
    "token_value = generate_token(APIPassword)\n",
    "print(token_value)"
   ]
  },
  {
   "cell_type": "code",
   "execution_count": 4,
   "metadata": {},
   "outputs": [
    {
     "name": "stdout",
     "output_type": "stream",
     "text": [
      "eb710589f74d4468a0232fd95686fd06\n",
      "HTTP Error 500: Internal Server Error\n",
      "{'Code': 100204, 'Message': '「信用取引口座設定約諾書」のご確認/お手続きがお済みでないため、お取引を承ることができません'}\n"
     ]
    }
   ],
   "source": [
    "Password = '1995tAkA@@' #注文パスワード\n",
    "# token_value = 'cd6322dcbc324135ad0dd0a3e66e739e'\n",
    "print(token_value)\n",
    "\n",
    "#symbol:銘柄コード　例　野村日経平均/ETF1321\n",
    "symbol = '1321'\n",
    "\n",
    "obj = { 'Password': Password, #注文パスワード\n",
    "        'Symbol': symbol, #銘柄\n",
    "        'Exchange': 1,\n",
    "        'SecurityType': 1, #株式\n",
    "        'Side': '2', #売り1 買い2\n",
    "        'CashMargin': 1, #信用区分1は現物\n",
    "        'DelivType': 2, #受け渡し区分2は預り金\n",
    "        'FundType': 'AA', #資産区分(預かり区分)AAは信用代用\n",
    "        'AccountType': 2, #口座種別2は一般\n",
    "        'Qty': 1, #注文数量\n",
    "        'FrontOrderType': 10, #失効条件 10:成り行き 20:指値　30:逆指値(ReverseLimitOrderで追加指定が必要)\n",
    "        'Price': 0, #注文価格\n",
    "        'ExpireDay': 0, #注文有効期限 yyyyMMdd形式\n",
    "                        #「0」を指定すると、kabuステーション上の発注画面の「本日」に対応する日付として扱います。\n",
    "        'ReverseLimitOrder': {\n",
    "\t\t\t\t\t           'TriggerSec': 3, #1.発注銘柄 2.NK225指数 3.TOPIX指数\n",
    "\t\t\t\t\t           'TriggerPrice': 1600,\n",
    "\t\t\t\t\t           'UnderOver': 2, #1.以下 2.以上\n",
    "\t\t\t\t\t           'AfterHitOrderType': 1, #1.成行 2.指値 3. 不成\n",
    "\t\t\t\t\t           'AfterHitPrice': 0\n",
    "\t\t   \t\t\t\t\t }\n",
    "\t    }\n",
    "json_data = json.dumps(obj).encode('utf-8')\n",
    "\n",
    "url = 'http://localhost:18080/kabusapi/sendorder'\n",
    "req = urllib.request.Request(url, json_data, method='POST')\n",
    "req.add_header('Content-Type', 'application/json')\n",
    "req.add_header('X-API-KEY', token_value)\n",
    "\n",
    "try:\n",
    "    with urllib.request.urlopen(req) as res:\n",
    "        print(res.status, res.reason)\n",
    "        for header in res.getheaders():\n",
    "            print(header)\n",
    "        print()\n",
    "        content = json.loads(res.read())\n",
    "        pprint.pprint(content)\n",
    "except urllib.error.HTTPError as e:\n",
    "    print(e)\n",
    "    content = json.loads(e.read())\n",
    "    pprint.pprint(content)\n",
    "except Exception as e:\n",
    "    print(e)\n"
   ]
  },
  {
   "cell_type": "code",
   "execution_count": null,
   "metadata": {},
   "outputs": [],
   "source": []
  }
 ],
 "metadata": {
  "kernelspec": {
   "display_name": "FinanceTradeEmvironment_p3119",
   "language": "python",
   "name": "python3"
  },
  "language_info": {
   "codemirror_mode": {
    "name": "ipython",
    "version": 3
   },
   "file_extension": ".py",
   "mimetype": "text/x-python",
   "name": "python",
   "nbconvert_exporter": "python",
   "pygments_lexer": "ipython3",
   "version": "3.11.9"
  }
 },
 "nbformat": 4,
 "nbformat_minor": 2
}
